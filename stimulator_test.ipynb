{
 "cells": [
  {
   "cell_type": "code",
   "execution_count": 1,
   "metadata": {},
   "outputs": [],
   "source": [
    "import sys\n",
    "# EBS stimulator class (Am4100)\n",
    "am4100_code_path = r\"C:\\Users\\denma\\Documents\\GitHub\\am4100_code\"\n",
    "sys.path.append(am4100_code_path)\n",
    "from am4100 import AM4100"
   ]
  },
  {
   "cell_type": "code",
   "execution_count": 2,
   "metadata": {},
   "outputs": [],
   "source": [
    "stimulator = AM4100(com_port = 'COM4')"
   ]
  },
  {
   "cell_type": "code",
   "execution_count": 3,
   "metadata": {},
   "outputs": [],
   "source": [
    "import time\n",
    "def update_estim_params(AM4100, amp): #for now only going to change amplitude but can change others\n",
    "    AM4100.stop() # sets the stimulator to read changes \n",
    "    \n",
    "    AM4100.set_amplitude(amp)\n",
    "    time.sleep(0.1)\n",
    "    AM4100.run() # sets to waiting for trigger\n",
    "    estim_params = AM4100.get_params()\n",
    "    return estim_params\n",
    "    "
   ]
  },
  {
   "cell_type": "code",
   "execution_count": 10,
   "metadata": {},
   "outputs": [
    {
     "name": "stdout",
     "output_type": "stream",
     "text": [
      "Send= 1001 s a stop\n",
      "Reply= \n",
      "Send= 1001 s m 10 7 -25\n",
      "Send= 1001 s a run\n",
      "Reply= \n",
      "Send= g m 10 7\n",
      "Send= g m 10 6\n",
      "Send= g m 10 4\n",
      "Send= g m 7 4\n",
      "Send= g m 7 2\n",
      "Send= g m 7 3\n"
     ]
    },
    {
     "data": {
      "text/plain": [
       "{'amplitude': '1001 s m 10 7 -25\\r',\n",
       " 'pulse_width': '-25',\n",
       " 'pulse_quantity': '1',\n",
       " 'train_number': '1',\n",
       " 'train_duration': '2000000',\n",
       " 'train_period': '2000000'}"
      ]
     },
     "execution_count": 10,
     "metadata": {},
     "output_type": "execute_result"
    }
   ],
   "source": [
    "update_estim_params(stimulator, -25)"
   ]
  }
 ],
 "metadata": {
  "kernelspec": {
   "display_name": "psychopy",
   "language": "python",
   "name": "python3"
  },
  "language_info": {
   "codemirror_mode": {
    "name": "ipython",
    "version": 3
   },
   "file_extension": ".py",
   "mimetype": "text/x-python",
   "name": "python",
   "nbconvert_exporter": "python",
   "pygments_lexer": "ipython3",
   "version": "3.8.17"
  }
 },
 "nbformat": 4,
 "nbformat_minor": 2
}
