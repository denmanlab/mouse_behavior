{
 "cells": [
  {
   "cell_type": "code",
   "execution_count": 1,
   "metadata": {},
   "outputs": [],
   "source": [
    "import sys\n",
    "# EBS stimulator class (Am4100)\n",
    "am4100_code_path = r\"C:\\Users\\denma\\Documents\\GitHub\\am4100_code\"\n",
    "sys.path.append(am4100_code_path)\n",
    "from am4100 import AM4100"
   ]
  },
  {
   "cell_type": "code",
   "execution_count": 2,
   "metadata": {},
   "outputs": [],
   "source": [
    "stimulator = AM4100(com_port = 'COM4')"
   ]
  },
  {
   "cell_type": "code",
   "execution_count": 3,
   "metadata": {},
   "outputs": [],
   "source": [
    "import time\n",
    "def update_estim_params(AM4100, amp): #for now only going to change amplitude but can change others\n",
    "    AM4100.stop() # sets the stimulator to read changes \n",
    "    AM4100.flush_serial_port()\n",
    "    AM4100.set_amplitude(amp)\n",
    "\n",
    "    AM4100.run() # sets to waiting for trigger\n",
    "\n",
    "    "
   ]
  },
  {
   "cell_type": "code",
   "execution_count": 9,
   "metadata": {},
   "outputs": [],
   "source": [
    "update_estim_params(stimulator, -30)"
   ]
  },
  {
   "cell_type": "code",
   "execution_count": 10,
   "metadata": {},
   "outputs": [
    {
     "data": {
      "text/plain": [
       "'1001 set trigger one\\r'"
      ]
     },
     "execution_count": 10,
     "metadata": {},
     "output_type": "execute_result"
    }
   ],
   "source": [
    "stimulator.flush_serial_port()\n",
    "stimulator.send_command_and_read_response('1001 set trigger one') # trigger the stim!!!"
   ]
  },
  {
   "cell_type": "code",
   "execution_count": 11,
   "metadata": {},
   "outputs": [
    {
     "data": {
      "text/plain": [
       "{'amplitude': '-30',\n",
       " 'pulse_width': '200',\n",
       " 'pulse_quantity': '1',\n",
       " 'train_number': '1',\n",
       " 'train_duration': '2000000',\n",
       " 'train_period': '2000000'}"
      ]
     },
     "execution_count": 11,
     "metadata": {},
     "output_type": "execute_result"
    }
   ],
   "source": [
    "stimulator.get_params()"
   ]
  },
  {
   "cell_type": "code",
   "execution_count": null,
   "metadata": {},
   "outputs": [],
   "source": []
  }
 ],
 "metadata": {
  "kernelspec": {
   "display_name": "psychopy",
   "language": "python",
   "name": "python3"
  },
  "language_info": {
   "codemirror_mode": {
    "name": "ipython",
    "version": 3
   },
   "file_extension": ".py",
   "mimetype": "text/x-python",
   "name": "python",
   "nbconvert_exporter": "python",
   "pygments_lexer": "ipython3",
   "version": "3.8.17"
  }
 },
 "nbformat": 4,
 "nbformat_minor": 2
}
